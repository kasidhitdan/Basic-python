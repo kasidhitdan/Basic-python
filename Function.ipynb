{
  "nbformat": 4,
  "nbformat_minor": 0,
  "metadata": {
    "colab": {
      "provenance": [],
      "authorship_tag": "ABX9TyN0HsDIL4lzZ7aFOJY7wwS2",
      "include_colab_link": true
    },
    "kernelspec": {
      "name": "python3",
      "display_name": "Python 3"
    },
    "language_info": {
      "name": "python"
    }
  },
  "cells": [
    {
      "cell_type": "markdown",
      "metadata": {
        "id": "view-in-github",
        "colab_type": "text"
      },
      "source": [
        "<a href=\"https://colab.research.google.com/github/kasidhitdan/Basic-python/blob/main/Function.ipynb\" target=\"_parent\"><img src=\"https://colab.research.google.com/assets/colab-badge.svg\" alt=\"Open In Colab\"/></a>"
      ]
    },
    {
      "cell_type": "code",
      "source": [
        "# Calculate sum of value in list with fuction\n",
        "values1 = [10,20,30,40,50,60]\n",
        "\n",
        "def find_total(values):\n",
        "    total=0\n",
        "    for value in values:\n",
        "        total+=value\n",
        "    return total\n",
        "\n",
        "print(\"Total value of value1 :\", find_total(values1))"
      ],
      "metadata": {
        "colab": {
          "base_uri": "https://localhost:8080/"
        },
        "id": "_5RAqOAUEWy8",
        "outputId": "d377000b-b852-421e-9d3a-2a0bb3573b46"
      },
      "execution_count": 7,
      "outputs": [
        {
          "output_type": "stream",
          "name": "stdout",
          "text": [
            "Total value of value1 : 210\n"
          ]
        }
      ]
    },
    {
      "cell_type": "code",
      "source": [
        "# Define a function to calculate box area\n",
        "def get_box_area(width=1,length=1,height=1):\n",
        "  box_area = width*length*height\n",
        "  return box_area\n",
        "\n",
        "print(get_box_area(4,2,3))\n",
        "print(get_box_area())"
      ],
      "metadata": {
        "colab": {
          "base_uri": "https://localhost:8080/"
        },
        "id": "5DHPfzNvEImv",
        "outputId": "ed8bb849-24be-4e3a-c19b-97a09ee2e16a"
      },
      "execution_count": 12,
      "outputs": [
        {
          "output_type": "stream",
          "name": "stdout",
          "text": [
            "24\n",
            "1\n"
          ]
        }
      ]
    },
    {
      "cell_type": "code",
      "source": [
        "import math\n",
        "def get_circle_area(r):\n",
        "    if r < 0:\n",
        "        return \"Radius cannot be negative\"\n",
        "    return math.pi * r ** 2\n",
        "\n",
        "# Prompt user for radius and convert to float\n",
        "radius = float(input(\"Enter the radius of the circle: \"))\n",
        "\n",
        "# Call the function with user input and print the result\n",
        "area = get_circle_area(radius)\n",
        "print(f\"Area of circle with radius {radius}: {area}\")"
      ],
      "metadata": {
        "colab": {
          "base_uri": "https://localhost:8080/"
        },
        "id": "3G1cFFNpDVzd",
        "outputId": "5dc14894-cfb5-47ec-86e1-e717cde7e50e"
      },
      "execution_count": 5,
      "outputs": [
        {
          "output_type": "stream",
          "name": "stdout",
          "text": [
            "Enter the radius of the circle: 2\n",
            "Area of circle with radius 2.0: 12.566370614359172\n"
          ]
        }
      ]
    },
    {
      "cell_type": "code",
      "source": [
        "# Higher-order function that takes a function as an argument\n",
        "def apply_function(func, x, y):\n",
        "    return func(x, y)\n",
        "\n",
        "# Defining simple functions to pass as arguments\n",
        "def add(a, b):\n",
        "    return a + b\n",
        "\n",
        "def multiply(a, b):\n",
        "    return a * b\n",
        "\n",
        "# Calling the higher-order function with different functions\n",
        "print(\"Add result:\", apply_function(add, 3, 5))        # Output: Add result: 8\n",
        "print(\"Multiply result:\", apply_function(multiply, 3, 5))   # Output: Multiply result: 15"
      ],
      "metadata": {
        "colab": {
          "base_uri": "https://localhost:8080/"
        },
        "id": "a1q_hSBuFQy3",
        "outputId": "6aaf9988-069b-497a-b819-8222f5d47bc3"
      },
      "execution_count": 13,
      "outputs": [
        {
          "output_type": "stream",
          "name": "stdout",
          "text": [
            "Add result: 8\n",
            "Multiply result: 15\n"
          ]
        }
      ]
    },
    {
      "cell_type": "code",
      "source": [
        "# Define a global variable\n",
        "counter = 0\n",
        "\n",
        "# Define a function that uses the global variable\n",
        "def add_counter():\n",
        "    global counter  # Declare that we are using the global variable\n",
        "    counter += 1\n",
        "\n",
        "# Call the function a few times\n",
        "add_counter()\n",
        "add_counter()\n",
        "add_counter()\n",
        "\n",
        "# Print the value of the global variable\n",
        "print(\"Counter value:\", counter)  # Output: Counter value: 3"
      ],
      "metadata": {
        "colab": {
          "base_uri": "https://localhost:8080/"
        },
        "id": "1RfQ2KQdGSTf",
        "outputId": "8099a658-ea58-4a9a-c8bf-d88afa1a5554"
      },
      "execution_count": 15,
      "outputs": [
        {
          "output_type": "stream",
          "name": "stdout",
          "text": [
            "Counter value: 3\n"
          ]
        }
      ]
    },
    {
      "cell_type": "code",
      "source": [
        "# Lambda function for adding two numbers\n",
        "add = lambda x, y: x + y\n",
        "print(\"Sum using lambda:\", add(3, 5))   # Output: 8"
      ],
      "metadata": {
        "colab": {
          "base_uri": "https://localhost:8080/"
        },
        "id": "HMM87R15HROv",
        "outputId": "123105ed-b782-4d88-b4cb-1cf6c3c9b746"
      },
      "execution_count": 21,
      "outputs": [
        {
          "output_type": "stream",
          "name": "stdout",
          "text": [
            "Sum using lambda: 8\n"
          ]
        }
      ]
    },
    {
      "cell_type": "code",
      "source": [
        "# Function with variable-length keyword arguments (**kwargs)\n",
        "def build_profile(first, last, **user_info):\n",
        "    profile = {\"first_name\": first, \"last_name\": last}\n",
        "    profile.update(user_info)\n",
        "    return profile\n",
        "\n",
        "# Calling the function with keyword arguments\n",
        "user_profile = build_profile(\"Kasidhit\", \"Suraratchai\", location=\"Bangkok\", field=\"Data science\")\n",
        "print(\"User profile:\", user_profile)"
      ],
      "metadata": {
        "colab": {
          "base_uri": "https://localhost:8080/"
        },
        "id": "TTDu6ZlRIlH-",
        "outputId": "e7a32062-38d3-4e92-cf13-29e229bbcfb5"
      },
      "execution_count": 23,
      "outputs": [
        {
          "output_type": "stream",
          "name": "stdout",
          "text": [
            "User profile: {'first_name': 'Kasidhit', 'last_name': 'Suraratchai', 'location': 'Bangkok', 'field': 'Data science'}\n"
          ]
        }
      ]
    }
  ]
}