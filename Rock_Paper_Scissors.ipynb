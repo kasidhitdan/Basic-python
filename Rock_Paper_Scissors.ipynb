{
  "nbformat": 4,
  "nbformat_minor": 0,
  "metadata": {
    "colab": {
      "provenance": [],
      "authorship_tag": "ABX9TyOtzwpjcJSqu5PYdX8LSEOt",
      "include_colab_link": true
    },
    "kernelspec": {
      "name": "python3",
      "display_name": "Python 3"
    },
    "language_info": {
      "name": "python"
    }
  },
  "cells": [
    {
      "cell_type": "markdown",
      "metadata": {
        "id": "view-in-github",
        "colab_type": "text"
      },
      "source": [
        "<a href=\"https://colab.research.google.com/github/kasidhitdan/Basic-python/blob/main/Rock_Paper_Scissors.ipynb\" target=\"_parent\"><img src=\"https://colab.research.google.com/assets/colab-badge.svg\" alt=\"Open In Colab\"/></a>"
      ]
    },
    {
      "cell_type": "code",
      "execution_count": 1,
      "metadata": {
        "colab": {
          "base_uri": "https://localhost:8080/"
        },
        "id": "s4cr-tCabUHF",
        "outputId": "39fcf7b7-d3fd-4e14-bbda-b12f53a75e92"
      },
      "outputs": [
        {
          "output_type": "stream",
          "name": "stdout",
          "text": [
            "Choose from hammer, paper, or scissors: hammer\n",
            "Player 2 chose: hammer\n",
            "It's a draw. Try again.\n",
            "Choose from hammer, paper, or scissors: hammer\n",
            "Player 2 chose: paper\n",
            "You lose. Try again.\n",
            "Choose from hammer, paper, or scissors: hammer\n",
            "Player 2 chose: paper\n",
            "You lose. Try again.\n",
            "Choose from hammer, paper, or scissors: paper\n",
            "Player 2 chose: scissors\n",
            "You lose. Try again.\n",
            "Choose from hammer, paper, or scissors: scissors\n",
            "Player 2 chose: paper\n",
            "Congratulations, You Win!!\n"
          ]
        }
      ],
      "source": [
        "import random\n",
        "\n",
        "def play_pao(player1, player2):\n",
        "    \"\"\"\n",
        "    Determines the result of a \"hammer, paper, scissors\" game.\n",
        "\n",
        "    Args:\n",
        "    player1 (str): The choice of the first player.\n",
        "    player2 (str): The choice of the second player.\n",
        "\n",
        "    Returns:\n",
        "    str: \"Win\", \"Lose\", or \"Draw\" based on the choices.\n",
        "    \"\"\"\n",
        "    if player1 == player2:\n",
        "        return \"Draw\"\n",
        "    elif player1 == \"hammer\":\n",
        "        if player2 == \"paper\":\n",
        "            return \"Lose\"\n",
        "        elif player2 == \"scissors\":\n",
        "            return \"Win\"\n",
        "    elif player1 == \"paper\":\n",
        "        if player2 == \"scissors\":\n",
        "            return \"Lose\"\n",
        "        elif player2 == \"hammer\":\n",
        "            return \"Win\"\n",
        "    elif player1 == \"scissors\":\n",
        "        if player2 == \"hammer\":\n",
        "            return \"Lose\"\n",
        "        elif player2 == \"paper\":\n",
        "            return \"Win\"\n",
        "    return \"Invalid\"  # Handle unexpected input\n",
        "\n",
        "# Define the possible choices\n",
        "pao_ying_chub = (\"hammer\", \"paper\", \"scissors\")\n",
        "\n",
        "# Main game loop\n",
        "while True:\n",
        "    # Randomly select the computer's choice\n",
        "    player2 = random.choice(pao_ying_chub)\n",
        "\n",
        "    # Get the player's choice\n",
        "    player1 = input(\"Choose from hammer, paper, or scissors: \").lower()\n",
        "\n",
        "    # Validate the player's choice\n",
        "    if player1 not in pao_ying_chub:\n",
        "        print(\"Invalid choice. Please choose hammer, paper, or scissors.\")\n",
        "        continue  # Prompt the player to choose again if the input is invalid\n",
        "\n",
        "    # Determine the result of the game\n",
        "    result = play_pao(player1, player2)\n",
        "\n",
        "    # Show the computer's choice\n",
        "    print(f\"Player 2 chose: {player2}\")\n",
        "\n",
        "    # Print the result and break the loop if the player wins\n",
        "    if result == \"Win\":\n",
        "        print(\"Congratulations, You Win!!\")\n",
        "        break\n",
        "    elif result == \"Draw\":\n",
        "        print(\"It's a draw. Try again.\")\n",
        "    else:\n",
        "        print(\"You lose. Try again.\")"
      ]
    }
  ]
}