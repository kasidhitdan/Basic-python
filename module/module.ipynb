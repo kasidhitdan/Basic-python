{
  "nbformat": 4,
  "nbformat_minor": 0,
  "metadata": {
    "colab": {
      "provenance": []
    },
    "kernelspec": {
      "name": "python3",
      "display_name": "Python 3"
    },
    "language_info": {
      "name": "python"
    }
  },
  "cells": [
    {
      "cell_type": "code",
      "execution_count": 7,
      "metadata": {
        "colab": {
          "base_uri": "https://localhost:8080/"
        },
        "id": "rWJ9Ap8GN0MT",
        "outputId": "b81a0166-23ad-4e82-9a3c-b4e52c0cc0b1"
      },
      "outputs": [
        {
          "output_type": "stream",
          "name": "stdout",
          "text": [
            "Input radius :2\n",
            "Area of circle with radius 2.0: 12.571428571428571\n"
          ]
        }
      ],
      "source": [
        "import shape_module\n",
        "\n",
        "radius = float(input(\"Input radius :\"))\n",
        "\n",
        "circle = shape_module.get_circle_area(radius)\n",
        "\n",
        "print(f\"Area of circle with radius {radius}: {circle}\")"
      ]
    },
    {
      "cell_type": "code",
      "source": [
        "import shape_module\n",
        "\n",
        "width = float(input(\"Input width :\"))\n",
        "height = float(input(\"Input height :\"))\n",
        "\n",
        "triangle = shape_module.get_triangle_area(width,height)\n",
        "\n",
        "print(f\"Area of triangle with base {width} and height {height}: {triangle}\")"
      ],
      "metadata": {
        "colab": {
          "base_uri": "https://localhost:8080/"
        },
        "id": "t1kXZdQgODLy",
        "outputId": "06172c0d-478b-420c-d4a9-c205f01d7f88"
      },
      "execution_count": 8,
      "outputs": [
        {
          "output_type": "stream",
          "name": "stdout",
          "text": [
            "Input width :2\n",
            "Input height :3\n",
            "Area of triangle with base 2.0 and height 3.0: 3.0\n"
          ]
        }
      ]
    },
    {
      "cell_type": "code",
      "source": [
        "import shape_module\n",
        "\n",
        "width = float(input(\"Input width :\"))\n",
        "height = float(input(\"Input height :\"))\n",
        "\n",
        "rectangle = shape_module.get_rectangle_area(width,height)\n",
        "\n",
        "print(f\"Area of rectangle with base {width} and height {height}: {rectangle}\")"
      ],
      "metadata": {
        "colab": {
          "base_uri": "https://localhost:8080/"
        },
        "id": "6FPAgW01OEQ4",
        "outputId": "1d2ad349-e1ae-4a2e-851b-8624b6ea9971"
      },
      "execution_count": 10,
      "outputs": [
        {
          "output_type": "stream",
          "name": "stdout",
          "text": [
            "Input width :4\n",
            "Input height :5\n",
            "Area of rectangle with base 4.0 and height 5.0: 20.0\n"
          ]
        }
      ]
    }
  ]
}