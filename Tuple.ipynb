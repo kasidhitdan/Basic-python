{
  "nbformat": 4,
  "nbformat_minor": 0,
  "metadata": {
    "colab": {
      "provenance": [],
      "authorship_tag": "ABX9TyNGkEWzn4O/T+l9fE9I5fZu",
      "include_colab_link": true
    },
    "kernelspec": {
      "name": "python3",
      "display_name": "Python 3"
    },
    "language_info": {
      "name": "python"
    }
  },
  "cells": [
    {
      "cell_type": "markdown",
      "metadata": {
        "id": "view-in-github",
        "colab_type": "text"
      },
      "source": [
        "<a href=\"https://colab.research.google.com/github/kasidhitdan/Basic-python/blob/main/Tuple.ipynb\" target=\"_parent\"><img src=\"https://colab.research.google.com/assets/colab-badge.svg\" alt=\"Open In Colab\"/></a>"
      ]
    },
    {
      "cell_type": "code",
      "execution_count": 3,
      "metadata": {
        "colab": {
          "base_uri": "https://localhost:8080/"
        },
        "id": "KmBFwrUoShEt",
        "outputId": "adc394fb-ec2b-459e-f995-3d14280ff3a9"
      },
      "outputs": [
        {
          "output_type": "stream",
          "name": "stdout",
          "text": [
            "(1, 2, 3, 4, 5)\n"
          ]
        }
      ],
      "source": [
        "# Creating a tuple\n",
        "my_tuple = (1, 2, 3, 4, 5)\n",
        "print( my_tuple)"
      ]
    },
    {
      "cell_type": "code",
      "source": [
        "# Tuple index\n",
        "print(\"First :\", my_tuple[0])   # Output: 1\n",
        "print(\"Last :\", my_tuple[-1])   # Output: 5\n",
        "\n",
        "# Tuple slicing\n",
        "print(\"First three :\", my_tuple[:3])   # Output: (1, 2, 3)\n",
        "print(\"Last two :\", my_tuple[-2:])     # Output: (4, 5)\n"
      ],
      "metadata": {
        "colab": {
          "base_uri": "https://localhost:8080/"
        },
        "id": "kQeLhiIPSulA",
        "outputId": "883a1f42-988b-4258-f852-b68de2e615e5"
      },
      "execution_count": 5,
      "outputs": [
        {
          "output_type": "stream",
          "name": "stdout",
          "text": [
            "First : 1\n",
            "Last : 5\n",
            "First three : (1, 2, 3)\n",
            "Last two : (4, 5)\n"
          ]
        }
      ]
    },
    {
      "cell_type": "code",
      "source": [
        "# Tuple packing\n",
        "print(\"Packed tuple:\", my_tuple)\n",
        "\n",
        "# Tuple unpacking\n",
        "a,b,c,d,e = my_tuple\n",
        "print(\"Unpacked variables:\", a,b,c,d,e)\n"
      ],
      "metadata": {
        "colab": {
          "base_uri": "https://localhost:8080/"
        },
        "id": "qp2cWWjcTCke",
        "outputId": "219624e4-1dce-43d9-a8c9-c2e6c9b90fa6"
      },
      "execution_count": 7,
      "outputs": [
        {
          "output_type": "stream",
          "name": "stdout",
          "text": [
            "Packed tuple: (1, 2, 3, 4, 5)\n",
            "Unpacked variables: 1 2 3 4 5\n"
          ]
        }
      ]
    },
    {
      "cell_type": "code",
      "source": [
        "# Looping through a tuple\n",
        "for item in my_tuple:\n",
        "    print(item)"
      ],
      "metadata": {
        "colab": {
          "base_uri": "https://localhost:8080/"
        },
        "id": "qh9lfflpTT5u",
        "outputId": "5d59033e-4214-4381-b302-74777a0260ed"
      },
      "execution_count": 8,
      "outputs": [
        {
          "output_type": "stream",
          "name": "stdout",
          "text": [
            "1\n",
            "2\n",
            "3\n",
            "4\n",
            "5\n"
          ]
        }
      ]
    },
    {
      "cell_type": "code",
      "source": [
        "# Counting occurrences\n",
        "count = my_tuple.count(2)\n",
        "print(\"Count of 2:\", count)   # Output: 1\n",
        "\n",
        "# Finding the index\n",
        "index = my_tuple.index(3)\n",
        "print(\"Index of 3:\", index)   # Output: 2"
      ],
      "metadata": {
        "colab": {
          "base_uri": "https://localhost:8080/"
        },
        "id": "W2t-4IFcTfbM",
        "outputId": "a62b189b-e6f7-4684-b2ef-423013f7b63e"
      },
      "execution_count": 10,
      "outputs": [
        {
          "output_type": "stream",
          "name": "stdout",
          "text": [
            "Count of 2: 1\n",
            "Index of 3: 2\n"
          ]
        }
      ]
    },
    {
      "cell_type": "code",
      "source": [
        "tup1 = ('dog', 'bird')\n",
        "tup2 = ('cat',)\n",
        "# Create new tuple based on existing tuples\n",
        "new_tuple = tup1 + tup2\n",
        "print(new_tuple)"
      ],
      "metadata": {
        "colab": {
          "base_uri": "https://localhost:8080/"
        },
        "id": "6OOKoQ6DXBF-",
        "outputId": "e92542c1-198b-408b-de81-86fa68eb556e"
      },
      "execution_count": 12,
      "outputs": [
        {
          "output_type": "stream",
          "name": "stdout",
          "text": [
            "('dog', 'bird', 'cat')\n"
          ]
        }
      ]
    },
    {
      "cell_type": "code",
      "source": [
        "# Using tuples in list comprehensions\n",
        "my_list = [(x, x**2) for x in range(5)]\n",
        "print(\"List of tuples:\", my_list)   # Output: [(0, 0), (1, 1), (2, 4), (3, 9), (4, 16)]"
      ],
      "metadata": {
        "colab": {
          "base_uri": "https://localhost:8080/"
        },
        "id": "9iyujxtnXQGW",
        "outputId": "dd6290b5-101f-46ed-8263-273681d898cf"
      },
      "execution_count": 13,
      "outputs": [
        {
          "output_type": "stream",
          "name": "stdout",
          "text": [
            "List of tuples: [(0, 0), (1, 1), (2, 4), (3, 9), (4, 16)]\n"
          ]
        }
      ]
    },
    {
      "cell_type": "code",
      "source": [
        "# tuples are faster than list\n",
        "import timeit\n",
        "print('Tuple time: ',\n",
        "      timeit.timeit('x=(1,2,3,4,5)', number=1000000))\n",
        "print('List time: ',\n",
        "      timeit.timeit('x=[1,2,3,4,5]', number=1000000))"
      ],
      "metadata": {
        "colab": {
          "base_uri": "https://localhost:8080/"
        },
        "id": "8GOYfPSIXfat",
        "outputId": "b1ec9b7d-f3a9-4608-f359-2611c0424971"
      },
      "execution_count": 20,
      "outputs": [
        {
          "output_type": "stream",
          "name": "stdout",
          "text": [
            "Tuple time:  0.02334625799994683\n",
            "List time:  0.06653395800003636\n"
          ]
        }
      ]
    }
  ]
}