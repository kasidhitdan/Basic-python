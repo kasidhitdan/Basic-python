{
  "nbformat": 4,
  "nbformat_minor": 0,
  "metadata": {
    "colab": {
      "provenance": [],
      "authorship_tag": "ABX9TyOlHCxY7aGilY6ayWwWA1kU",
      "include_colab_link": true
    },
    "kernelspec": {
      "name": "python3",
      "display_name": "Python 3"
    },
    "language_info": {
      "name": "python"
    }
  },
  "cells": [
    {
      "cell_type": "markdown",
      "metadata": {
        "id": "view-in-github",
        "colab_type": "text"
      },
      "source": [
        "<a href=\"https://colab.research.google.com/github/kasidhitdan/Basic-python/blob/main/List.ipynb\" target=\"_parent\"><img src=\"https://colab.research.google.com/assets/colab-badge.svg\" alt=\"Open In Colab\"/></a>"
      ]
    },
    {
      "cell_type": "markdown",
      "source": [
        "# List"
      ],
      "metadata": {
        "id": "mUHBTAkJ_vzK"
      }
    },
    {
      "cell_type": "code",
      "execution_count": 7,
      "metadata": {
        "colab": {
          "base_uri": "https://localhost:8080/"
        },
        "id": "NknnFPHm_ktc",
        "outputId": "be903bbb-4746-44ae-8b5c-eda46a044145"
      },
      "outputs": [
        {
          "output_type": "stream",
          "name": "stdout",
          "text": [
            "[1, 2, 3, 4, 5]\n"
          ]
        }
      ],
      "source": [
        "# Creating a list\n",
        "num_list = [1, 2, 3, 4, 5]\n",
        "print(num_list)"
      ]
    },
    {
      "cell_type": "markdown",
      "source": [
        "# Index List"
      ],
      "metadata": {
        "id": "2Mol4Yrp_xwj"
      }
    },
    {
      "cell_type": "code",
      "source": [
        "# index of list\n",
        "print(\"First :\", num_list[0])   # Output: 1\n",
        "print(\"Last :\", num_list[-1])   # Output: 5\n",
        "\n",
        "# list slicing\n",
        "print(\"First three :\", num_list[:3])   # Output: [1, 2, 3]\n",
        "print(\"Last two :\", num_list[-2:])     # Output: [4, 5]\n"
      ],
      "metadata": {
        "colab": {
          "base_uri": "https://localhost:8080/"
        },
        "id": "FS68IjUA_z1A",
        "outputId": "711df623-15d6-44e5-8dd1-166d663a0fc6"
      },
      "execution_count": 8,
      "outputs": [
        {
          "output_type": "stream",
          "name": "stdout",
          "text": [
            "First : 1\n",
            "Last : 5\n",
            "First three : [1, 2, 3]\n",
            "Last two : [4, 5]\n"
          ]
        }
      ]
    },
    {
      "cell_type": "markdown",
      "source": [
        "# Modifying Lists"
      ],
      "metadata": {
        "id": "e69x3oc0AZgg"
      }
    },
    {
      "cell_type": "code",
      "source": [
        "# Changing an element\n",
        "num_list[0] = 99\n",
        "print(\"Modified list:\", num_list)   # Output: [99, 2, 3, 4, 5]\n",
        "\n",
        "# Adding elements\n",
        "num_list.append(6)\n",
        "print(\"Appending:\", num_list)   # Output: [99, 2, 3, 4, 5, 6]\n",
        "\n",
        "# Inserting elements\n",
        "num_list.insert(1, 15)\n",
        "print(\"Inserting:\", num_list)   # Output: [99, 15, 2, 3, 4, 5, 6]\n",
        "\n",
        "# Extending a list\n",
        "num_list.extend([7, 8, 9])\n",
        "print(\"Extending:\", num_list)   # Output: [99, 15, 2, 3, 4, 5, 6, 7, 8, 9]\n"
      ],
      "metadata": {
        "colab": {
          "base_uri": "https://localhost:8080/"
        },
        "id": "IJu-JzH5AXsH",
        "outputId": "cbc65a33-0887-4a47-de38-7fc97945fd05"
      },
      "execution_count": 9,
      "outputs": [
        {
          "output_type": "stream",
          "name": "stdout",
          "text": [
            "Modified list: [99, 2, 3, 4, 5]\n",
            "Appending: [99, 2, 3, 4, 5, 6]\n",
            "Inserting: [99, 15, 2, 3, 4, 5, 6]\n",
            "Extending: [99, 15, 2, 3, 4, 5, 6, 7, 8, 9]\n"
          ]
        }
      ]
    },
    {
      "cell_type": "markdown",
      "source": [
        "# Removing"
      ],
      "metadata": {
        "id": "gu49e2wYA4uB"
      }
    },
    {
      "cell_type": "code",
      "source": [
        "# Removing by value\n",
        "num_list.remove(15)\n",
        "print(\"After removing 15:\", num_list)   # Output: [99, 2, 3, 4, 5, 6, 7, 8, 9]\n",
        "\n",
        "# Removing by index\n",
        "removed_element = num_list.pop(0)\n",
        "print(\"After popping :\", num_list)   # Output: [2, 3, 4, 5, 6, 7, 8, 9]\n",
        "print(\"Popped :\", removed_element)        # Output: 99\n",
        "\n",
        "# Clearing the list\n",
        "num_list.clear()\n",
        "print(\"Clear:\", num_list)   # Output: []\n"
      ],
      "metadata": {
        "colab": {
          "base_uri": "https://localhost:8080/"
        },
        "id": "XCd3s5y6A4Wl",
        "outputId": "5af429a9-90fe-4ce0-f13f-4c408137e9f3"
      },
      "execution_count": 10,
      "outputs": [
        {
          "output_type": "stream",
          "name": "stdout",
          "text": [
            "After removing 15: [99, 2, 3, 4, 5, 6, 7, 8, 9]\n",
            "After popping : [2, 3, 4, 5, 6, 7, 8, 9]\n",
            "Popped : 99\n",
            "Clear: []\n"
          ]
        }
      ]
    },
    {
      "cell_type": "markdown",
      "source": [
        "# List Operations"
      ],
      "metadata": {
        "id": "ArW5_f5mBdbx"
      }
    },
    {
      "cell_type": "code",
      "source": [
        "# Re-creating the list for operations\n",
        "num_list = [1, 2, 3, 4, 5]\n",
        "\n",
        "# Finding the length of the list\n",
        "print(\"Length:\", len(num_list))   # Output: 5\n",
        "\n",
        "# Finding the maximum and minimum elements\n",
        "print(\"Maximum :\", max(num_list))   # Output: 5\n",
        "print(\"Minimum :\", min(num_list))   # Output: 1\n",
        "\n",
        "# Summing elements\n",
        "print(\"Sum :\", sum(num_list))   # Output: 15\n",
        "\n",
        "# Counting occurrences of an element\n",
        "print(\"Count of 3:\", num_list.count(3))   # Output: 1\n",
        "\n",
        "# Finding the index of an element\n",
        "print(\"Index of 4:\", num_list.index(4))   # Output: 3\n"
      ],
      "metadata": {
        "colab": {
          "base_uri": "https://localhost:8080/"
        },
        "id": "85CO7iOkBdEj",
        "outputId": "701f888a-8812-4433-eaa4-d4245a9c437c"
      },
      "execution_count": 11,
      "outputs": [
        {
          "output_type": "stream",
          "name": "stdout",
          "text": [
            "Length: 5\n",
            "Maximum : 5\n",
            "Minimum : 1\n",
            "Sum : 15\n",
            "Count of 3: 1\n",
            "Index of 4: 3\n"
          ]
        }
      ]
    },
    {
      "cell_type": "markdown",
      "source": [
        "# List Comprehensions"
      ],
      "metadata": {
        "id": "BHi08INUB79g"
      }
    },
    {
      "cell_type": "code",
      "source": [
        "# Creating a list using a comprehension\n",
        "squares = [x**2 for x in range(5)]\n",
        "print(\"Squares:\", squares)   # Output: [0, 1, 4, 9, 16]\n",
        "\n",
        "# Using conditionals in comprehensions\n",
        "evens = [x for x in range(5) if x % 2 == 0]\n",
        "print(\"Even numbers:\", evens)   # Output: [0, 2, 4]\n"
      ],
      "metadata": {
        "colab": {
          "base_uri": "https://localhost:8080/"
        },
        "id": "y1B5XenZCAMG",
        "outputId": "90c1cc63-bcb7-4a9d-8692-e7cee9ea495a"
      },
      "execution_count": 12,
      "outputs": [
        {
          "output_type": "stream",
          "name": "stdout",
          "text": [
            "Squares: [0, 1, 4, 9, 16]\n",
            "Even numbers: [0, 2, 4]\n"
          ]
        }
      ]
    },
    {
      "cell_type": "markdown",
      "source": [
        "# Nested Lists"
      ],
      "metadata": {
        "id": "xPp1NLXsCBa6"
      }
    },
    {
      "cell_type": "code",
      "source": [
        "# Creating a nested list (list of lists)\n",
        "nested_list = [[1, 2], [3, 4], [5, 6]]\n",
        "print(\"Nested list:\", nested_list)\n",
        "\n",
        "# Accessing elements in a nested list\n",
        "print(\"First element :\", nested_list[0][0])   # Output: 1\n",
        "\n",
        "# Iterating through a nested list\n",
        "for sub_list in nested_list:\n",
        "    for num in sub_list:\n",
        "        print(num, end=\" \")\n",
        "# Output: 1 2 3 4 5 6\n"
      ],
      "metadata": {
        "colab": {
          "base_uri": "https://localhost:8080/"
        },
        "id": "FR-r4i5GCC5H",
        "outputId": "96b21232-62a0-4293-c49c-aa1c107429ba"
      },
      "execution_count": 17,
      "outputs": [
        {
          "output_type": "stream",
          "name": "stdout",
          "text": [
            "Nested list: [[1, 2], [3, 4], [5, 6]]\n",
            "First element : 1\n",
            "1 2 3 4 5 6 "
          ]
        }
      ]
    },
    {
      "cell_type": "markdown",
      "source": [
        "# Sorting and Reversing Lists"
      ],
      "metadata": {
        "id": "YmcZk1nuCw27"
      }
    },
    {
      "cell_type": "code",
      "source": [
        "# Sorting a list\n",
        "num_list = [5, 1, 2, 10, 15, 29, 32, 126, 4, 13, 5]\n",
        "num_list.sort()\n",
        "print(\"Sorted:\", num_list)   # Output: [1, 2, 4, 5, 5, 10, 13, 15, 29, 32, 126]\n",
        "\n",
        "# Sorting in descending order\n",
        "num_list.sort(reverse=True)\n",
        "print(\"Descending order:\", num_list)   # Output: [126, 32, 29, 15, 13, 10, 5, 5, 4, 2, 1]\n",
        "\n",
        "# Reversing a list\n",
        "num_list.reverse()\n",
        "print(\"Reversed list:\", num_list)   # Output: [1, 2, 4, 5, 5, 10, 13, 15, 29, 32, 126]\n"
      ],
      "metadata": {
        "colab": {
          "base_uri": "https://localhost:8080/"
        },
        "id": "2YpIUfpQCu73",
        "outputId": "396f3ce6-143d-4d1b-854b-00e5cf1e870e"
      },
      "execution_count": 20,
      "outputs": [
        {
          "output_type": "stream",
          "name": "stdout",
          "text": [
            "Sorted: [1, 2, 4, 5, 5, 10, 13, 15, 29, 32, 126]\n",
            "Descending order: [126, 32, 29, 15, 13, 10, 5, 5, 4, 2, 1]\n",
            "Reversed list: [1, 2, 4, 5, 5, 10, 13, 15, 29, 32, 126]\n"
          ]
        }
      ]
    },
    {
      "cell_type": "markdown",
      "source": [
        "# Copy"
      ],
      "metadata": {
        "id": "g3P5OzDDCzE8"
      }
    },
    {
      "cell_type": "code",
      "source": [
        "# Copying a list using slicing\n",
        "num_list = [1, 2, 3, 4, 5]\n",
        "copy_list = num_list[:]\n",
        "print(\"Original list :\", num_list)\n",
        "print(\"Copied list :\", copy_list)\n",
        "\n",
        "# Copying a list using the list() function\n",
        "copy_list2 = list(num_list)\n",
        "print(\"list() :\", copy_list2)\n",
        "\n",
        "# Copying a list using the copy() method\n",
        "copy_list3 = num_list.copy()\n",
        "print(\"copy() :\", copy_list3)\n"
      ],
      "metadata": {
        "colab": {
          "base_uri": "https://localhost:8080/"
        },
        "id": "yMgtHQKKCymK",
        "outputId": "1ae00a35-d82d-4c13-d6ed-33430b855de5"
      },
      "execution_count": 21,
      "outputs": [
        {
          "output_type": "stream",
          "name": "stdout",
          "text": [
            "Original list : [1, 2, 3, 4, 5]\n",
            "Copied list : [1, 2, 3, 4, 5]\n",
            "list() : [1, 2, 3, 4, 5]\n",
            "copy() : [1, 2, 3, 4, 5]\n"
          ]
        }
      ]
    }
  ]
}