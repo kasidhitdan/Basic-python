{
  "nbformat": 4,
  "nbformat_minor": 0,
  "metadata": {
    "colab": {
      "provenance": []
    },
    "kernelspec": {
      "name": "python3",
      "display_name": "Python 3"
    },
    "language_info": {
      "name": "python"
    }
  },
  "cells": [
    {
      "cell_type": "code",
      "execution_count": 2,
      "metadata": {
        "colab": {
          "base_uri": "https://localhost:8080/"
        },
        "id": "C0KTIHznZ75G",
        "outputId": "f27eb32c-7d7e-4bac-db59-2e7094c6166d"
      },
      "outputs": [
        {
          "output_type": "stream",
          "name": "stdout",
          "text": [
            "Data written to 'valorant.txt'\n"
          ]
        }
      ],
      "source": [
        "# Writing to a file\n",
        "\n",
        "with open('valorant.txt', 'w') as file:\n",
        "    # Write data to the file\n",
        "    file.write(\"Brimstone\\n\")\n",
        "    file.write(\"Breach\\n\")\n",
        "    file.write(\"Chamber\\n\")\n",
        "\n",
        "print(\"Data written to 'valorant.txt'\")\n"
      ]
    },
    {
      "cell_type": "code",
      "source": [
        "# Reading from a file\n",
        "\n",
        "# Open the file for reading\n",
        "with open('valorant.txt', 'r') as file:\n",
        "    content = file.read()\n",
        "\n",
        "print(\"File content:\")\n",
        "print(content)"
      ],
      "metadata": {
        "colab": {
          "base_uri": "https://localhost:8080/"
        },
        "id": "fMn5k6BgaHfg",
        "outputId": "231e9e57-dd76-4555-de8f-ab3b0ae7b369"
      },
      "execution_count": 3,
      "outputs": [
        {
          "output_type": "stream",
          "name": "stdout",
          "text": [
            "File content:\n",
            "Brimstone\n",
            "Breach\n",
            "Chamber\n",
            "\n"
          ]
        }
      ]
    },
    {
      "cell_type": "code",
      "source": [
        "# Reading a file line by line\n",
        "\n",
        "with open('valorant.txt', 'r') as file:\n",
        "    print(\"File content line by line:\")\n",
        "    for line in file:\n",
        "        print(line, end='')  # The `end=''` parameter avoids adding extra newlines\n"
      ],
      "metadata": {
        "colab": {
          "base_uri": "https://localhost:8080/"
        },
        "id": "QtvTyn9-atQ6",
        "outputId": "efed73e2-d7e6-4a37-befb-ddef00011191"
      },
      "execution_count": 7,
      "outputs": [
        {
          "output_type": "stream",
          "name": "stdout",
          "text": [
            "File content line by line:\n",
            "Brimstone\n",
            "Breach\n",
            "Chamber\n"
          ]
        }
      ]
    },
    {
      "cell_type": "code",
      "source": [
        "# Logging data to a file\n",
        "\n",
        "agent_data = [\n",
        "    \"Initiator: Fade\",\n",
        "    \"Controller: Clove\",\n",
        "    \"Duelist: Jett\",\n",
        "    \"Sentinel: Sage\"\n",
        "]\n",
        "\n",
        "# Open the log file for writing\n",
        "with open('valorant2.txt', 'w') as agent_file:\n",
        "    for agent in agent_data:\n",
        "        agent_file.write(agent + \"\\n\")\n",
        "\n",
        "print(\"agent data written to 'valorant2.txt'\")"
      ],
      "metadata": {
        "colab": {
          "base_uri": "https://localhost:8080/"
        },
        "id": "Hi6wGSKiawio",
        "outputId": "41467e71-c37c-4a23-9862-95d3f6bde749"
      },
      "execution_count": 9,
      "outputs": [
        {
          "output_type": "stream",
          "name": "stdout",
          "text": [
            "agent data written to 'valorant2.txt'\n"
          ]
        }
      ]
    },
    {
      "cell_type": "code",
      "source": [
        "# Reading from a file\n",
        "\n",
        "with open('valorant2.txt', 'r') as file:\n",
        "    print(\"File content line by line:\")\n",
        "    for line in file:\n",
        "        print(line, end='')"
      ],
      "metadata": {
        "colab": {
          "base_uri": "https://localhost:8080/"
        },
        "id": "gvav9ZSSdgT1",
        "outputId": "efae898f-6105-42ae-e09c-2be4ed2c3301"
      },
      "execution_count": 16,
      "outputs": [
        {
          "output_type": "stream",
          "name": "stdout",
          "text": [
            "File content line by line:\n",
            "Initiator: Fade\n",
            "Controller: Clove\n",
            "Duelist: Jett\n",
            "Sentinel: Sage\n"
          ]
        }
      ]
    },
    {
      "cell_type": "code",
      "source": [
        "path='games.txt'\n",
        "\n",
        "# writelines\n",
        "f=open(path,\"w\")\n",
        "f.writelines(['Dota2\\n',\n",
        "              'Dead by daylight\\n',\n",
        "              'Cyberpunk\\n',\n",
        "              'Backpack Battles\\n',\n",
        "              'Dark Souls'])\n",
        "f.close()"
      ],
      "metadata": {
        "id": "A8cnqj83cYoL"
      },
      "execution_count": 11,
      "outputs": []
    },
    {
      "cell_type": "code",
      "source": [
        "# Reading from a file\n",
        "\n",
        "with open(path,\"r\") as f:\n",
        "    print(\"File content line by line:\")\n",
        "    for line in f:\n",
        "        print(line, end='')"
      ],
      "metadata": {
        "colab": {
          "base_uri": "https://localhost:8080/"
        },
        "id": "n0CCM4YWdAdx",
        "outputId": "76fb61c1-4b8b-48c5-cb06-9675f45b0290"
      },
      "execution_count": 17,
      "outputs": [
        {
          "output_type": "stream",
          "name": "stdout",
          "text": [
            "File content line by line:\n",
            "Dota2\n",
            "Dead by daylight\n",
            "Cyberpunk\n",
            "Backpack Battles\n",
            "Dark Souls"
          ]
        }
      ]
    }
  ]
}