{
  "nbformat": 4,
  "nbformat_minor": 0,
  "metadata": {
    "colab": {
      "provenance": [],
      "authorship_tag": "ABX9TyMNp20NEc1gLUsiiaGyGItS",
      "include_colab_link": true
    },
    "kernelspec": {
      "name": "python3",
      "display_name": "Python 3"
    },
    "language_info": {
      "name": "python"
    }
  },
  "cells": [
    {
      "cell_type": "markdown",
      "metadata": {
        "id": "view-in-github",
        "colab_type": "text"
      },
      "source": [
        "<a href=\"https://colab.research.google.com/github/kasidhitdan/Basic-python/blob/main/Input_and_Output.ipynb\" target=\"_parent\"><img src=\"https://colab.research.google.com/assets/colab-badge.svg\" alt=\"Open In Colab\"/></a>"
      ]
    },
    {
      "cell_type": "markdown",
      "source": [
        "# Input and Output"
      ],
      "metadata": {
        "id": "Im0wDPvMrhbd"
      }
    },
    {
      "cell_type": "code",
      "execution_count": 1,
      "metadata": {
        "colab": {
          "base_uri": "https://localhost:8080/"
        },
        "id": "5vjX6VTzq8My",
        "outputId": "6bd546e0-7abe-4af1-cd48-a27ad16735fd"
      },
      "outputs": [
        {
          "output_type": "stream",
          "name": "stdout",
          "text": [
            "Enter your name: Dan\n",
            "My name is :, Dan!\n",
            "Enter your age: 18\n",
            "You are 18 years old.\n",
            "Enter your height in meters: 157\n",
            "Your height is 157.0 meters.\n"
          ]
        }
      ],
      "source": [
        "# Getting a simple string input from the user\n",
        "name = input(\"Enter your name: \")\n",
        "print(f\"My name is : {name}!\")\n",
        "\n",
        "# Getting an integer input from the user\n",
        "age = int(input(\"Enter your age: \"))\n",
        "print(f\"You are {age} years old.\")\n",
        "\n",
        "# Getting a float input from the user\n",
        "height = float(input(\"Enter your height in meters: \"))\n",
        "print(f\"Your height is {height} meters.\")"
      ]
    },
    {
      "cell_type": "markdown",
      "source": [
        "# Arithmetic Operations with Input"
      ],
      "metadata": {
        "id": "-kyEOZs3rgrp"
      }
    },
    {
      "cell_type": "code",
      "source": [
        "# Performing basic arithmetic with user input\n",
        "number1 = float(input(\"First number: \"))\n",
        "number2 = float(input(\"Second number: \"))\n",
        "\n",
        "sum_result = number1 + number2\n",
        "print(f\"The sum of {number1} and {number2} is {sum_result}\")\n",
        "\n",
        "difference = number1 - number2\n",
        "print(f\"The difference between {number1} and {number2} is {difference}\")\n",
        "\n",
        "product = number1 * number2\n",
        "print(f\"The product of {number1} and {number2} is {product}\")\n",
        "\n",
        "if number2 != 0:  # Check to avoid division by zero\n",
        "    quotient = number1 / number2\n",
        "    print(f\"The quotient of {number1} divided by {number2} is {quotient}\")\n",
        "else:\n",
        "    print(\"Cannot divide by zero!\")"
      ],
      "metadata": {
        "colab": {
          "base_uri": "https://localhost:8080/"
        },
        "id": "0SdV-nd0rg_U",
        "outputId": "a50237f6-05b4-4388-8590-ca40aa456b75"
      },
      "execution_count": 2,
      "outputs": [
        {
          "output_type": "stream",
          "name": "stdout",
          "text": [
            "First number: 5\n",
            "Second number: 9\n",
            "The sum of 5.0 and 9.0 is 14.0\n",
            "The difference between 5.0 and 9.0 is -4.0\n",
            "The product of 5.0 and 9.0 is 45.0\n",
            "The quotient of 5.0 divided by 9.0 is 0.5555555555555556\n"
          ]
        }
      ]
    },
    {
      "cell_type": "markdown",
      "source": [
        "# Decision Making with Input"
      ],
      "metadata": {
        "id": "fBJ55U6LsI-y"
      }
    },
    {
      "cell_type": "code",
      "source": [
        "# Using input to make a decision\n",
        "favorite_pet = input(\"Enter your favorite pet: \").lower()\n",
        "if favorite_pet == 'dog':\n",
        "    print(\"Dogs are loyal companions!\")\n",
        "elif favorite_pet == 'cat':\n",
        "    print(\"Cats are independent and graceful!\")\n",
        "else:\n",
        "    print(f\"{favorite_pet.capitalize()} is a unique choice!\")"
      ],
      "metadata": {
        "colab": {
          "base_uri": "https://localhost:8080/"
        },
        "id": "v7jDUR7fsF1z",
        "outputId": "8ce88278-781e-4767-d88e-e28ceb5ae547"
      },
      "execution_count": 3,
      "outputs": [
        {
          "output_type": "stream",
          "name": "stdout",
          "text": [
            "Enter your favorite pet: cat\n",
            "Cats are independent and graceful!\n"
          ]
        }
      ]
    },
    {
      "cell_type": "markdown",
      "source": [
        "# Working with Lists and Strings"
      ],
      "metadata": {
        "id": "EDHk5FWcvdFN"
      }
    },
    {
      "cell_type": "code",
      "source": [
        "# Getting a list of values from user input\n",
        "numbers = input(\"Enter three numbers separated by spaces: \").split()\n",
        "# Convert each input string to a float\n",
        "numbers = [float(num) for num in numbers]\n",
        "print(f\"You entered the numbers: {numbers}\")\n",
        "\n",
        "# Finding the maximum and minimum of the input numbers\n",
        "max_number = max(numbers)\n",
        "min_number = min(numbers)\n",
        "print(f\"The largest number is {max_number}\")\n",
        "print(f\"The smallest number is {min_number}\")\n",
        "\n",
        "# Concatenating string input\n",
        "first_part = input(\"Enter the first part of a sentence: \")\n",
        "second_part = input(\"Enter the second part of a sentence: \")\n",
        "full_sentence = first_part + \" \" + second_part\n",
        "print(f\"The full sentence is: {full_sentence}\")"
      ],
      "metadata": {
        "colab": {
          "base_uri": "https://localhost:8080/"
        },
        "id": "NNWvBZoBvTro",
        "outputId": "4899c642-bf00-4d57-b3cf-87224215536e"
      },
      "execution_count": 4,
      "outputs": [
        {
          "output_type": "stream",
          "name": "stdout",
          "text": [
            "Enter three numbers separated by spaces: 2 4 78 9\n",
            "You entered the numbers: [2.0, 4.0, 78.0, 9.0]\n",
            "The largest number is 78.0\n",
            "The smallest number is 2.0\n",
            "Enter the first part of a sentence: dan\n",
            "Enter the second part of a sentence: smart\n",
            "The full sentence is: dan smart\n"
          ]
        }
      ]
    },
    {
      "cell_type": "markdown",
      "source": [
        "# Validating and Manipulating Strings"
      ],
      "metadata": {
        "id": "s0rSB382ypMQ"
      }
    },
    {
      "cell_type": "code",
      "source": [
        "# Checking if input is numeric\n",
        "user_input = input(\"Enter : \")\n",
        "if user_input.isdigit():\n",
        "    print(f\"{user_input} is numeric.\")\n",
        "else:\n",
        "    print(f\"{user_input} is not numeric.\")\n",
        "\n",
        "# Converting a string to uppercase\n",
        "message = input(\"Enter a message: \")\n",
        "uppercase_message = message.upper()\n",
        "print(f\"Message in uppercase : {uppercase_message}\")"
      ],
      "metadata": {
        "colab": {
          "base_uri": "https://localhost:8080/"
        },
        "id": "KrAK6e0kyqQH",
        "outputId": "04809c8d-e1dc-4cd4-d207-84ba8a9a989c"
      },
      "execution_count": 5,
      "outputs": [
        {
          "output_type": "stream",
          "name": "stdout",
          "text": [
            "Enter : 50\n",
            "50 is numeric.\n",
            "Enter a message: cartoon\n",
            "Message in uppercase : CARTOON\n"
          ]
        }
      ]
    },
    {
      "cell_type": "markdown",
      "source": [
        "# Simple User Interaction Program"
      ],
      "metadata": {
        "id": "S5CaRk1dysRu"
      }
    },
    {
      "cell_type": "code",
      "source": [
        "# Example of a small user interaction program\n",
        "name = input(\"What is your name? \")\n",
        "city = input(\"Where are you from? \")\n",
        "print(f\"Nice to meet you, {name} from {city}!\")\n",
        "\n",
        "# Using input to repeat a task\n",
        "repeat_count = int(input(\"How many times would you like to see a message? \"))\n",
        "for i in range(repeat_count):\n",
        "    print(f\"Message {i+1}: Hello, {name} from {city}!\")"
      ],
      "metadata": {
        "colab": {
          "base_uri": "https://localhost:8080/"
        },
        "id": "xySRqQQxyt87",
        "outputId": "5c306a83-afd3-494e-e3e6-50d79dd9f2e2"
      },
      "execution_count": 7,
      "outputs": [
        {
          "output_type": "stream",
          "name": "stdout",
          "text": [
            "What is your name? dan\n",
            "Where are you from? paris\n",
            "Nice to meet you, dan from paris!\n",
            "How many times would you like to see a message? 5\n",
            "Message 1: Hello, dan from paris!\n",
            "Message 2: Hello, dan from paris!\n",
            "Message 3: Hello, dan from paris!\n",
            "Message 4: Hello, dan from paris!\n",
            "Message 5: Hello, dan from paris!\n"
          ]
        }
      ]
    }
  ]
}