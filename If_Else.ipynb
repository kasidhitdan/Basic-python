{
  "nbformat": 4,
  "nbformat_minor": 0,
  "metadata": {
    "colab": {
      "provenance": [],
      "authorship_tag": "ABX9TyNtcCKKhG35c+3SxMasP2Kk",
      "include_colab_link": true
    },
    "kernelspec": {
      "name": "python3",
      "display_name": "Python 3"
    },
    "language_info": {
      "name": "python"
    }
  },
  "cells": [
    {
      "cell_type": "markdown",
      "metadata": {
        "id": "view-in-github",
        "colab_type": "text"
      },
      "source": [
        "<a href=\"https://colab.research.google.com/github/kasidhitdan/Basic-python/blob/main/If_Else.ipynb\" target=\"_parent\"><img src=\"https://colab.research.google.com/assets/colab-badge.svg\" alt=\"Open In Colab\"/></a>"
      ]
    },
    {
      "cell_type": "markdown",
      "source": [
        "# If-Else"
      ],
      "metadata": {
        "id": "AH9RJVUsGg4-"
      }
    },
    {
      "cell_type": "code",
      "source": [
        "# If-elif-else statement\n",
        "# Python supports the usual logical conditions\n",
        "# Equals: ==\n",
        "# Not equals: !=\n",
        "# grater than: >\n",
        "# less than: <\n",
        "# grater than or equal to: >=\n",
        "# less than or equal to: <=\n",
        "\n",
        "x = 5\n",
        "if x > 5:\n",
        "    print(\"x is greater than 5\")\n",
        "elif x == 5:\n",
        "    print(\"x is equal to 5\")\n",
        "else:\n",
        "    print(\"x is less than 5\")"
      ],
      "metadata": {
        "colab": {
          "base_uri": "https://localhost:8080/"
        },
        "id": "2QJ8i2ChE6Eo",
        "outputId": "91d6c139-9ef2-480e-b958-d8ea923bda7d"
      },
      "execution_count": 2,
      "outputs": [
        {
          "output_type": "stream",
          "name": "stdout",
          "text": [
            "x is equal to 5\n"
          ]
        }
      ]
    },
    {
      "cell_type": "code",
      "source": [
        "# Nested if statements\n",
        "x = 10\n",
        "y = 20\n",
        "if x > 5:\n",
        "    if y > 15:\n",
        "        print(\"x is greater than 5 and y is greater than 15\")"
      ],
      "metadata": {
        "colab": {
          "base_uri": "https://localhost:8080/"
        },
        "id": "8Z5YrPiEFBJ2",
        "outputId": "e888d76a-bce4-4f09-f965-1d2ecc5e4789"
      },
      "execution_count": 1,
      "outputs": [
        {
          "output_type": "stream",
          "name": "stdout",
          "text": [
            "x is greater than 5 and y is greater than 15\n"
          ]
        }
      ]
    },
    {
      "cell_type": "code",
      "source": [
        "# Using logical operators with if statements\n",
        "x = 8\n",
        "if x > 5 and x < 10:\n",
        "    print(\"x is between 5 and 10\")"
      ],
      "metadata": {
        "colab": {
          "base_uri": "https://localhost:8080/"
        },
        "id": "6NyN7oeVFTHF",
        "outputId": "0d1e9969-7ccf-4daa-cd79-b50bd5db3786"
      },
      "execution_count": 3,
      "outputs": [
        {
          "output_type": "stream",
          "name": "stdout",
          "text": [
            "x is between 5 and 10\n"
          ]
        }
      ]
    },
    {
      "cell_type": "code",
      "source": [
        "# Using logical operators with if statements\n",
        "x = 8\n",
        "if x < 5 or x > 10:\n",
        "    print(\"x is either less than 5 or greater than 10\")\n",
        "else:\n",
        "    print(\"x is between 5 and 10\")"
      ],
      "metadata": {
        "id": "zcwCu-nLFVZP"
      },
      "execution_count": 6,
      "outputs": []
    },
    {
      "cell_type": "code",
      "source": [
        "# Checking membership in a list\n",
        "fruits = [\"apple\", \"banana\", \"cherry\"]\n",
        "if \"banana\" in fruits:\n",
        "    print(\"banana is fruits\")\n",
        "if \"dog\" not in fruits:\n",
        "    print(\"dog is not fruits\")\n"
      ],
      "metadata": {
        "colab": {
          "base_uri": "https://localhost:8080/"
        },
        "id": "6so6g7kDFmoZ",
        "outputId": "d17cacfe-0978-4ca0-bf2e-7a06dc699b41"
      },
      "execution_count": 7,
      "outputs": [
        {
          "output_type": "stream",
          "name": "stdout",
          "text": [
            "banana is fruits\n",
            "dog is not fruits\n"
          ]
        }
      ]
    },
    {
      "cell_type": "code",
      "source": [
        "# Defining a function with if-else statements\n",
        "def check_number(num):\n",
        "    if num > 0:\n",
        "        return \"Positive number\"\n",
        "    elif num == 0:\n",
        "        return \"Zero\"\n",
        "    else:\n",
        "        return \"Negative number\"\n",
        "\n",
        "# Calling the function\n",
        "print(check_number(90))   # Output: Positive number\n",
        "print(check_number(0))    # Output: Zero\n",
        "print(check_number(-99))   # Output: Negative number"
      ],
      "metadata": {
        "colab": {
          "base_uri": "https://localhost:8080/"
        },
        "id": "ScFEWaYZGTV2",
        "outputId": "458c4647-f15e-456a-e404-5cca7b7ffbb2"
      },
      "execution_count": 9,
      "outputs": [
        {
          "output_type": "stream",
          "name": "stdout",
          "text": [
            "Positive number\n",
            "Zero\n",
            "Negative number\n"
          ]
        }
      ]
    },
    {
      "cell_type": "code",
      "source": [
        "# Using if-else within a list comprehension\n",
        "numbers = [1, 2, 3, 4, 5]\n",
        "labels = [\"even\" if num % 2 == 0 else \"odd\" for num in numbers]\n",
        "print(labels)   # Output: ['odd', 'even', 'odd', 'even', 'odd']"
      ],
      "metadata": {
        "colab": {
          "base_uri": "https://localhost:8080/"
        },
        "id": "IyI2W0RYGaC_",
        "outputId": "79c65979-d249-4915-a07f-5703cfc112c7"
      },
      "execution_count": 10,
      "outputs": [
        {
          "output_type": "stream",
          "name": "stdout",
          "text": [
            "['odd', 'even', 'odd', 'even', 'odd']\n"
          ]
        }
      ]
    }
  ]
}