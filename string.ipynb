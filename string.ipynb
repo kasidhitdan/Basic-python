{
  "nbformat": 4,
  "nbformat_minor": 0,
  "metadata": {
    "colab": {
      "provenance": [],
      "authorship_tag": "ABX9TyNA6A1RH/wc7/w8MdVx9oHW",
      "include_colab_link": true
    },
    "kernelspec": {
      "name": "python3",
      "display_name": "Python 3"
    },
    "language_info": {
      "name": "python"
    }
  },
  "cells": [
    {
      "cell_type": "markdown",
      "metadata": {
        "id": "view-in-github",
        "colab_type": "text"
      },
      "source": [
        "<a href=\"https://colab.research.google.com/github/kasidhitdan/Basic-python/blob/main/string.ipynb\" target=\"_parent\"><img src=\"https://colab.research.google.com/assets/colab-badge.svg\" alt=\"Open In Colab\"/></a>"
      ]
    },
    {
      "cell_type": "code",
      "source": [
        "# Assigning a string value to variable 'word'\n",
        "word = 'Data Science'\n",
        "\n",
        "# Concatenating two strings \"Data\" and \"Science\" and printing the result\n",
        "print(\"Data\" + \"Science\")  # DataScience\n",
        "\n",
        "# The following line is commented out because it would cause a TypeError\n",
        "# print('9' + 7)\n",
        "\n",
        "# Concatenating a string '9' with the string representation of the number 7\n",
        "print('9' + str(7))  # 97\n",
        "\n",
        "# Printing a string that includes an apostrophe using double quotes\n",
        "print(\"let's go\")  # let's go\n",
        "\n",
        "# Printing a string that includes an apostrophe using escape character\n",
        "print(\"let\\'s go\")  # let's go\n",
        "\n",
        "# Printing a multiline string using triple quotes\n",
        "print('''Hi\n",
        "I am Data Science''')\n",
        "\n",
        "# Special characters\n",
        "# Tab character uses \\t\n",
        "print('Data\\tScience')  # Data   Science\n",
        "\n",
        "# New line character uses \\n\n",
        "print('Data Science\\nI will learn python')\n",
        "# Output:\n",
        "# Data Science\n",
        "# I will learn python\n"
      ],
      "metadata": {
        "colab": {
          "base_uri": "https://localhost:8080/"
        },
        "id": "pM-visTSmUsQ",
        "outputId": "1a0510a8-8473-4b66-a98f-a90f7145277e"
      },
      "execution_count": 7,
      "outputs": [
        {
          "output_type": "stream",
          "name": "stdout",
          "text": [
            "DataScience\n",
            "97\n",
            "let's go\n",
            "let's go\n",
            "Hi \n",
            "I am Data Science\n",
            "Data\tScience\n",
            "Data Science\n",
            "I will learn python\n"
          ]
        }
      ]
    },
    {
      "cell_type": "code",
      "source": [
        "# String index\n",
        "word = 'Data Science'\n",
        "# Accessing the first character of the string\n",
        "print(word[0])  # D\n",
        "\n",
        "# Accessing the last character of the string\n",
        "print(word[-1])  # e\n",
        "\n",
        "# String slicing\n",
        "# Slicing the first three characters\n",
        "print(word[0:3])  # Dat\n",
        "\n",
        "# Slicing from the beginning to the third character\n",
        "print(word[:3])  # Dat\n",
        "\n",
        "# Slicing the last three characters, but not including the last one\n",
        "print(word[-3:-1])  # nc\n",
        "\n",
        "# Slicing the last three characters\n",
        "print(word[-3:])  # nce\n",
        "\n",
        "# len function\n",
        "# Counting the number of characters in the string\n",
        "print(len(word))  # 12"
      ],
      "metadata": {
        "colab": {
          "base_uri": "https://localhost:8080/"
        },
        "id": "ACokec2ema_8",
        "outputId": "a1657152-87fa-44c6-8e4d-24a38f4edc8f"
      },
      "execution_count": 8,
      "outputs": [
        {
          "output_type": "stream",
          "name": "stdout",
          "text": [
            "D\n",
            "e\n",
            "Dat\n",
            "Dat\n",
            "nc\n",
            "nce\n",
            "12\n"
          ]
        }
      ]
    },
    {
      "cell_type": "code",
      "source": [
        "# Check if a substring is in the string\n",
        "print('Data' in word)  # True\n",
        "print('data' in word)  # False (case-sensitive)\n",
        "print('data' not in word)  # True\n",
        "\n",
        "# replace function\n",
        "# Replacing \"Data\" with \"data\" in the string (the original string doesn't change)\n",
        "word = 'Data Science'\n",
        "word.replace('Data', 'data')  # if you print -> data Science (but s doesn't change)\n",
        "print(word)  # Data Science\n",
        "\n",
        "# Assigning the modified string back to s\n",
        "word = word.replace('Data', 'data')\n",
        "print(word)  # data Science\n",
        "\n",
        "# You can't replace a string character like this\n",
        "# s[0] = 'x'  # This will cause an error\n",
        "\n",
        "# upper/lower function\n",
        "word = 'Data Science'\n",
        "# Converting the string to upper case (the original string doesn't change)\n",
        "word.upper()  # if you print -> DATA SCIENCE (but s doesn't change)\n",
        "print(word)  # Data Science\n",
        "\n",
        "# Assigning the modified string back to s\n",
        "word = word.upper()\n",
        "print(word)  # DATA SCIENCE\n",
        "\n",
        "# Converting the string to lower case (the original string doesn't change)\n",
        "word.lower()  # if you print -> data science (but s doesn't change)\n",
        "print(word)  # DATA SCIENCE\n",
        "\n",
        "# Assigning the modified string back to s\n",
        "word = word.lower()\n",
        "print(word)  # data science\n",
        "\n",
        "# isdigit function\n",
        "# Check if all characters in the string are digits\n",
        "print('79'.isdigit())  # True\n",
        "print('79data'.isdigit())  # False\n",
        "\n",
        "# index function\n",
        "# Return the index of the first occurrence of the substring\n",
        "word = 'data science'\n",
        "print(word.index('dat'))  # 0\n",
        "print(word.index('science'))  # 5"
      ],
      "metadata": {
        "colab": {
          "base_uri": "https://localhost:8080/"
        },
        "id": "UvLbyXKpokUc",
        "outputId": "ac907307-fb68-42e2-c6c3-f9209fbb4622"
      },
      "execution_count": 9,
      "outputs": [
        {
          "output_type": "stream",
          "name": "stdout",
          "text": [
            "True\n",
            "False\n",
            "True\n",
            "Data Science\n",
            "data Science\n",
            "Data Science\n",
            "DATA SCIENCE\n",
            "DATA SCIENCE\n",
            "data science\n",
            "True\n",
            "False\n",
            "0\n",
            "5\n"
          ]
        }
      ]
    }
  ]
}