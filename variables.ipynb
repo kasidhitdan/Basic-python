{
  "nbformat": 4,
  "nbformat_minor": 0,
  "metadata": {
    "colab": {
      "provenance": [],
      "authorship_tag": "ABX9TyNLdZpYPKSSsknF1tWEUxNn",
      "include_colab_link": true
    },
    "kernelspec": {
      "name": "python3",
      "display_name": "Python 3"
    },
    "language_info": {
      "name": "python"
    }
  },
  "cells": [
    {
      "cell_type": "markdown",
      "metadata": {
        "id": "view-in-github",
        "colab_type": "text"
      },
      "source": [
        "<a href=\"https://colab.research.google.com/github/kasidhitdan/Basic-python/blob/main/variables.ipynb\" target=\"_parent\"><img src=\"https://colab.research.google.com/assets/colab-badge.svg\" alt=\"Open In Colab\"/></a>"
      ]
    },
    {
      "cell_type": "markdown",
      "source": [
        "# Variable"
      ],
      "metadata": {
        "id": "OTh-48LRUnYb"
      }
    },
    {
      "cell_type": "code",
      "execution_count": null,
      "metadata": {
        "colab": {
          "base_uri": "https://localhost:8080/"
        },
        "id": "Kzmv-vNaNSip",
        "outputId": "6f4573fb-314f-44f5-d56a-f28d709d4358"
      },
      "outputs": [
        {
          "output_type": "stream",
          "name": "stdout",
          "text": [
            "plus = 12\n",
            "minus = 6\n",
            "multiply = 27\n",
            "divide = 3.0\n",
            "squared = 729\n",
            "modulo = 0\n",
            "floor division = 3\n"
          ]
        }
      ],
      "source": [
        "# Assigning integer value 9 to variable 'number_1'\n",
        "number_1 = 9\n",
        "# Assigning integer value 3 to variable 'number_2'\n",
        "number_2 = 3\n",
        "\n",
        "# Adding number_1 and number_2, and printing the result\n",
        "print(\"plus =\", number_1 + number_2)\n",
        "\n",
        "# Subtracting number_2 from number_1, and printing the result\n",
        "print(\"minus =\", number_1 - number_2)\n",
        "\n",
        "# Multiplying number_1 by number_2, and printing the result\n",
        "print(\"multiply =\", number_1 * number_2)\n",
        "\n",
        "# Dividing number_1 by number_2, and printing the result\n",
        "print(\"divide =\", number_1 / number_2)\n",
        "\n",
        "# Raising number_1 to the power of number_2 (number_1 ** number_2), and printing the result\n",
        "print(\"squared =\", number_1 ** number_2)\n",
        "\n",
        "# Performing modulo operation to find the remainder when number_1 is divided by number_2, and printing the result\n",
        "print(\"modulo =\", number_1 % number_2)\n",
        "\n",
        "# Performing floor division to find the quotient when number_1 is divided by number_2 without the remainder, and printing the result\n",
        "print(\"floor division =\", number_1 // number_2)"
      ]
    },
    {
      "cell_type": "code",
      "source": [
        "# Checking if number_1 is greater than number_2 and printing the result\n",
        "print(\"9 > 3 :\",number_1 > number_2)  # True because 9 is greater than 3\n",
        "\n",
        "# Checking if number_1 is less than number_2 and printing the result\n",
        "print(\"9 < 3 :\",number_1 < number_2)  # False because 9 is not less than 3\n",
        "\n",
        "# Checking if number_1 is greater than or equal to number_2 and printing the result\n",
        "print(\"9 >= 3 :\",number_1 >= number_2)  # True because 9 is greater than 3\n",
        "\n",
        "# Checking if number_1 is less than or equal to number_2 and printing the result\n",
        "print(\"9 <= 3 :\",number_1 <= number_2)  # False because 9 is not less than or equal to 3\n",
        "\n",
        "# Checking if number_1 is equal to number_2 and printing the result\n",
        "print(\"9 == 3 :\",number_1 == number_2)  # False because 9 is not equal to 3\n",
        "\n",
        "# Checking if number_1 is not equal to number_2 and printing the result\n",
        "print(\"9 != 3 :\",number_1 != number_2)  # True because 9 is not equal to 3"
      ],
      "metadata": {
        "colab": {
          "base_uri": "https://localhost:8080/"
        },
        "id": "qjQcb6bBfn7Z",
        "outputId": "79794dd0-2df8-4b7a-ab12-5e29a1abf429"
      },
      "execution_count": null,
      "outputs": [
        {
          "output_type": "stream",
          "name": "stdout",
          "text": [
            "9 > 3 : True\n",
            "9 < 3 : False\n",
            "9 >= 3 : True\n",
            "9 <= 3 : False\n",
            "9 == 3 : False\n",
            "9 != 3 : True\n"
          ]
        }
      ]
    },
    {
      "cell_type": "markdown",
      "source": [
        "# Data type"
      ],
      "metadata": {
        "id": "RupJ-eQSUqsU"
      }
    },
    {
      "cell_type": "code",
      "source": [
        "# Assigning an integer value to variable 'a'\n",
        "a = 9\n",
        "# Printing the type of variable 'a', which is 'int'\n",
        "print(\"type of a:\", type(a))\n",
        "\n",
        "# Assigning a floating-point value to variable 'b'\n",
        "b = 3.0\n",
        "# Printing the type of variable 'b', which is 'float'\n",
        "print(\"type of b:\", type(b))\n",
        "\n",
        "# Assigning a string value to variable 'c'\n",
        "c = \"hello world\"\n",
        "# Printing the type of variable 'c', which is 'str'\n",
        "print(\"type of c:\", type(c))\n",
        "\n",
        "# Assigning a boolean value to variable 'd'\n",
        "d = False\n",
        "# Printing the type of variable 'd', which is 'bool'\n",
        "print(\"type of d:\", type(d))\n"
      ],
      "metadata": {
        "colab": {
          "base_uri": "https://localhost:8080/"
        },
        "id": "fOYauV18UgXz",
        "outputId": "92d62b37-d117-4b44-b706-d2203284f461"
      },
      "execution_count": null,
      "outputs": [
        {
          "output_type": "stream",
          "name": "stdout",
          "text": [
            "type of a: <class 'int'>\n",
            "type of b: <class 'float'>\n",
            "type of c: <class 'str'>\n",
            "type of d: <class 'bool'>\n"
          ]
        }
      ]
    },
    {
      "cell_type": "code",
      "source": [
        "# Converting a floating-point number to an integer\n",
        "# This will truncate the decimal part and print 4\n",
        "print(int(4.5))\n",
        "\n",
        "# Converting an integer to a floating-point number\n",
        "# This will print 4.0\n",
        "print(float(4))\n",
        "\n",
        "# Converting a string that represents a number to a floating-point number\n",
        "# This will print 4.0\n",
        "print(float(\"4\"))"
      ],
      "metadata": {
        "colab": {
          "base_uri": "https://localhost:8080/"
        },
        "id": "cNt3kYMNeYbB",
        "outputId": "15dab830-1d72-4eab-fdfb-89ceff160cce"
      },
      "execution_count": null,
      "outputs": [
        {
          "output_type": "stream",
          "name": "stdout",
          "text": [
            "4\n",
            "4.0\n",
            "4.0\n"
          ]
        }
      ]
    }
  ]
}