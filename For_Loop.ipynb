{
  "nbformat": 4,
  "nbformat_minor": 0,
  "metadata": {
    "colab": {
      "provenance": [],
      "authorship_tag": "ABX9TyM6zwCo8LuBlBwVxwptQEi+",
      "include_colab_link": true
    },
    "kernelspec": {
      "name": "python3",
      "display_name": "Python 3"
    },
    "language_info": {
      "name": "python"
    }
  },
  "cells": [
    {
      "cell_type": "markdown",
      "metadata": {
        "id": "view-in-github",
        "colab_type": "text"
      },
      "source": [
        "<a href=\"https://colab.research.google.com/github/kasidhitdan/Basic-python/blob/main/For_Loop.ipynb\" target=\"_parent\"><img src=\"https://colab.research.google.com/assets/colab-badge.svg\" alt=\"Open In Colab\"/></a>"
      ]
    },
    {
      "cell_type": "markdown",
      "source": [
        "#For loop"
      ],
      "metadata": {
        "id": "KepGgEBbOepG"
      }
    },
    {
      "cell_type": "code",
      "execution_count": 3,
      "metadata": {
        "colab": {
          "base_uri": "https://localhost:8080/"
        },
        "id": "FHQInabXNgp8",
        "outputId": "5d4a24e8-f1b3-4491-d13e-122aab672a33"
      },
      "outputs": [
        {
          "output_type": "stream",
          "name": "stdout",
          "text": [
            "1\n",
            "2\n",
            "3\n",
            "4\n"
          ]
        }
      ],
      "source": [
        "# range() function\n",
        "for i in range(1,5):\n",
        "    print(i)\n",
        "# 1\n",
        "# 2\n",
        "# 3\n",
        "# 4"
      ]
    },
    {
      "cell_type": "code",
      "source": [
        "# Looping through a list\n",
        "pets = [\"dog\", \"cat\", \"bird\"]\n",
        "for pet in pets:\n",
        "    print(pet)\n",
        "#dog\n",
        "#cat\n",
        "#bird"
      ],
      "metadata": {
        "colab": {
          "base_uri": "https://localhost:8080/"
        },
        "id": "z9KqXxuKNyd6",
        "outputId": "2a46273b-8eab-47c5-9ed0-6eb0834d8e10"
      },
      "execution_count": 4,
      "outputs": [
        {
          "output_type": "stream",
          "name": "stdout",
          "text": [
            "dog\n",
            "cat\n",
            "bird\n"
          ]
        }
      ]
    },
    {
      "cell_type": "code",
      "source": [
        "# Looping through a string\n",
        "for char in \"Data\":\n",
        "    print(char)\n",
        "# D\n",
        "# a\n",
        "# t\n",
        "# a"
      ],
      "metadata": {
        "colab": {
          "base_uri": "https://localhost:8080/"
        },
        "id": "3MZ_sVFJN-0L",
        "outputId": "b70ec709-e5c8-46e7-8614-b8825a41ce54"
      },
      "execution_count": 5,
      "outputs": [
        {
          "output_type": "stream",
          "name": "stdout",
          "text": [
            "D\n",
            "a\n",
            "t\n",
            "a\n"
          ]
        }
      ]
    },
    {
      "cell_type": "code",
      "source": [
        "values = [10,20,30,40]\n",
        "\n",
        "# sum all value using for loop\n",
        "sum_value = 0\n",
        "for value in values:\n",
        "    sum_value = sum_value + value\n",
        "print(sum_value) # 100"
      ],
      "metadata": {
        "colab": {
          "base_uri": "https://localhost:8080/"
        },
        "id": "Ztk5Sn3mOLn3",
        "outputId": "b6650b90-e138-408e-d483-3dea278faf76"
      },
      "execution_count": 6,
      "outputs": [
        {
          "output_type": "stream",
          "name": "stdout",
          "text": [
            "100\n"
          ]
        }
      ]
    },
    {
      "cell_type": "code",
      "source": [
        "# Looping over a dictionary\n",
        "person = {\"name\": \"Dan\", \"age\": 25, \"city\": \"Bangkok\"}\n",
        "for key, value in person.items():\n",
        "    print(f\"{key}: {value}\")\n",
        "#name: Dan\n",
        "#age: 25\n",
        "#city: Bangkok"
      ],
      "metadata": {
        "colab": {
          "base_uri": "https://localhost:8080/"
        },
        "id": "gNON8uIOOeFe",
        "outputId": "ab00f33c-1a83-49d2-a4fa-1f61c5931615"
      },
      "execution_count": 10,
      "outputs": [
        {
          "output_type": "stream",
          "name": "stdout",
          "text": [
            "name: Dan\n",
            "age: 25\n",
            "city: Bangkok\n"
          ]
        }
      ]
    },
    {
      "cell_type": "code",
      "source": [
        "# Using enumerate to get index and value\n",
        "pets = [\"dog\", \"cat\", \"bird\"]\n",
        "for index, pet in enumerate(pets):\n",
        "    print(f\"Index: {index}, Pet: {pet}\")\n",
        "\n",
        "#Index: 0, Pet: dog\n",
        "#Index: 1, Pet: cat\n",
        "#Index: 2, Pet: bird"
      ],
      "metadata": {
        "colab": {
          "base_uri": "https://localhost:8080/"
        },
        "id": "5Snt0WVYO8Nq",
        "outputId": "710df1ce-784b-46d8-9c08-2195f1357994"
      },
      "execution_count": 11,
      "outputs": [
        {
          "output_type": "stream",
          "name": "stdout",
          "text": [
            "Index: 0, Pet: dog\n",
            "Index: 1, Pet: cat\n",
            "Index: 2, Pet: bird\n"
          ]
        }
      ]
    },
    {
      "cell_type": "code",
      "source": [
        "# while loop\n",
        "num=0\n",
        "while num<=5:\n",
        "    print(num)\n",
        "    num=num+1\n",
        "# 0\n",
        "# 1\n",
        "# 2\n",
        "# 3\n",
        "# 4\n",
        "# 5"
      ],
      "metadata": {
        "colab": {
          "base_uri": "https://localhost:8080/"
        },
        "id": "X7L3GJGIPoMT",
        "outputId": "9617dc78-a6b1-4760-d1ea-fffbd20bae0e"
      },
      "execution_count": 12,
      "outputs": [
        {
          "output_type": "stream",
          "name": "stdout",
          "text": [
            "0\n",
            "1\n",
            "2\n",
            "3\n",
            "4\n",
            "5\n"
          ]
        }
      ]
    },
    {
      "cell_type": "code",
      "source": [
        "# Using zip\n",
        "fruits = [\"apple\", \"banana\", \"grape\"]\n",
        "prices = [15, 9 , 20]\n",
        "for fruit, price in zip(fruits, prices):\n",
        "    print(f\"{fruit}: {price} ฿\")\n",
        "\n",
        "#apple: 15 ฿\n",
        "#banana: 9 ฿\n",
        "#grape: 20 ฿"
      ],
      "metadata": {
        "colab": {
          "base_uri": "https://localhost:8080/"
        },
        "id": "6dbH-PM5P12k",
        "outputId": "44a961ae-074d-41a5-b280-918ad725823f"
      },
      "execution_count": 17,
      "outputs": [
        {
          "output_type": "stream",
          "name": "stdout",
          "text": [
            "apple: 15 ฿\n",
            "banana: 9 ฿\n",
            "grape: 20 ฿\n"
          ]
        }
      ]
    }
  ]
}