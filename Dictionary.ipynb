{
  "nbformat": 4,
  "nbformat_minor": 0,
  "metadata": {
    "colab": {
      "provenance": [],
      "authorship_tag": "ABX9TyMXd4cZPS4kBXMsE6A50GXl",
      "include_colab_link": true
    },
    "kernelspec": {
      "name": "python3",
      "display_name": "Python 3"
    },
    "language_info": {
      "name": "python"
    }
  },
  "cells": [
    {
      "cell_type": "markdown",
      "metadata": {
        "id": "view-in-github",
        "colab_type": "text"
      },
      "source": [
        "<a href=\"https://colab.research.google.com/github/kasidhitdan/Basic-python/blob/main/Dictionary.ipynb\" target=\"_parent\"><img src=\"https://colab.research.google.com/assets/colab-badge.svg\" alt=\"Open In Colab\"/></a>"
      ]
    },
    {
      "cell_type": "markdown",
      "source": [
        "# Dictionary"
      ],
      "metadata": {
        "id": "cCWfmfpXbac_"
      }
    },
    {
      "cell_type": "code",
      "execution_count": 17,
      "metadata": {
        "colab": {
          "base_uri": "https://localhost:8080/"
        },
        "id": "QiR8v3iVa_7O",
        "outputId": "ff906fa7-da16-493c-b64a-2a3ead7e7c11"
      },
      "outputs": [
        {
          "output_type": "stream",
          "name": "stdout",
          "text": [
            "Dictionary: {'name': 'Dan', 'age': 25, 'city': 'Bangkok'}\n"
          ]
        }
      ],
      "source": [
        "# Creating a dictionary\n",
        "my_dict = {\"name\": \"Dan\", \"age\": 25, \"city\": \"Bangkok\"}\n",
        "print(\"Dictionary:\", my_dict)"
      ]
    },
    {
      "cell_type": "code",
      "source": [
        "# Select by key\n",
        "print(\"Name:\", my_dict[\"name\"])   # Output: Dan\n",
        "print(\"Age:\", my_dict[\"age\"])     # Output: 25\n",
        "\n",
        "# Using get()\n",
        "print(\"City:\", my_dict.get(\"city\"))   # Output: Bangkok"
      ],
      "metadata": {
        "colab": {
          "base_uri": "https://localhost:8080/"
        },
        "id": "HKtF-m9DbNbc",
        "outputId": "148e1923-7960-46af-fc98-a69519896e2a"
      },
      "execution_count": 18,
      "outputs": [
        {
          "output_type": "stream",
          "name": "stdout",
          "text": [
            "Name: Dan\n",
            "Age: 25\n",
            "City: Bangkok\n"
          ]
        }
      ]
    },
    {
      "cell_type": "code",
      "source": [
        "# Modifying\n",
        "my_dict[\"age\"] = 26\n",
        "print(\"Modified :\", my_dict)   # Output: {'name': 'Dan', 'age': 26, 'city': 'Bangkok'}\n",
        "\n",
        "# Adding new elements\n",
        "my_dict[\"gender\"] = \"male\"\n",
        "print(\"Adding gender:\", my_dict)   # Output: {'name': 'Alice', 'age': 26, 'city': 'Bangkok', 'gender': 'male'}\n",
        "\n",
        "my_dict.update({\"pet\": \"dog\"})\n",
        "print(\"update :\", my_dict)"
      ],
      "metadata": {
        "colab": {
          "base_uri": "https://localhost:8080/"
        },
        "id": "BkVJda0tbZOA",
        "outputId": "0a4a0471-280c-4684-b435-389bde836f6e"
      },
      "execution_count": 19,
      "outputs": [
        {
          "output_type": "stream",
          "name": "stdout",
          "text": [
            "Modified : {'name': 'Dan', 'age': 26, 'city': 'Bangkok'}\n",
            "Adding gender: {'name': 'Dan', 'age': 26, 'city': 'Bangkok', 'gender': 'male'}\n",
            "update : {'name': 'Dan', 'age': 26, 'city': 'Bangkok', 'gender': 'male', 'pet': 'dog'}\n"
          ]
        }
      ]
    },
    {
      "cell_type": "code",
      "source": [
        "# Removing\n",
        "removed_value = my_dict.pop(\"age\")\n",
        "print(\"Removed value:\", removed_value)   # Output: 26\n",
        "print(\"After removing age:\", my_dict)     # Output: {'name': 'Dan', 'city': 'Bangkok', 'gender': 'male', 'pet': 'dog'}\n",
        "\n",
        "# del\n",
        "del my_dict[\"pet\"]\n",
        "print(my_dict) # Output: {'name': 'Dan', 'city': 'Bangkok', 'gender': 'male'}\n",
        "\n",
        "# Clear dictionary\n",
        "my_dict.clear()\n",
        "print(\"After clearing:\", my_dict)   # Output: {}\n"
      ],
      "metadata": {
        "colab": {
          "base_uri": "https://localhost:8080/"
        },
        "id": "HuF569I_bs-H",
        "outputId": "421ed150-c913-4190-98ed-c71d241f857d"
      },
      "execution_count": 20,
      "outputs": [
        {
          "output_type": "stream",
          "name": "stdout",
          "text": [
            "Removed value: 26\n",
            "After removing age: {'name': 'Dan', 'city': 'Bangkok', 'gender': 'male', 'pet': 'dog'}\n",
            "{'name': 'Dan', 'city': 'Bangkok', 'gender': 'male'}\n",
            "After clearing: {}\n"
          ]
        }
      ]
    },
    {
      "cell_type": "code",
      "source": [
        "# Looping through keys\n",
        "my_dict = {\"name\": \"Dan\", \"age\": 25, \"city\": \"Bangkok\"}\n",
        "for key in my_dict:\n",
        "    print(\"Key:\", key)\n",
        "\n",
        "# Looping through values\n",
        "for value in my_dict.values():\n",
        "    print(\"Value:\", value)\n",
        "\n",
        "# Looping through key-value pairs\n",
        "for key, value in my_dict.items():\n",
        "    print(\"Key:\", key, \", Value:\", value)\n",
        "\n",
        "#Key: name\n",
        "#Key: age\n",
        "#Key: city\n",
        "#Value: Dan\n",
        "#Value: 25\n",
        "#Value: Bangkok\n",
        "#Key: name , Value: Dan\n",
        "#Key: age , Value: 25\n",
        "#Key: city , Value: Bangkok"
      ],
      "metadata": {
        "colab": {
          "base_uri": "https://localhost:8080/"
        },
        "id": "Oz1HeNkqb6UU",
        "outputId": "66b61548-4e99-44f5-de08-3562d93ad894"
      },
      "execution_count": 21,
      "outputs": [
        {
          "output_type": "stream",
          "name": "stdout",
          "text": [
            "Key: name\n",
            "Key: age\n",
            "Key: city\n",
            "Value: Dan\n",
            "Value: 25\n",
            "Value: Bangkok\n",
            "Key: name , Value: Dan\n",
            "Key: age , Value: 25\n",
            "Key: city , Value: Bangkok\n"
          ]
        }
      ]
    }
  ]
}