{
  "nbformat": 4,
  "nbformat_minor": 0,
  "metadata": {
    "colab": {
      "provenance": [],
      "collapsed_sections": [
        "99ajb2UKy0uo",
        "aviaA5Cpq6Xi",
        "Dcq5M0vusZI_"
      ],
      "authorship_tag": "ABX9TyMcTEv4dy4sNFEJPIdW5mO3",
      "include_colab_link": true
    },
    "kernelspec": {
      "name": "python3",
      "display_name": "Python 3"
    },
    "language_info": {
      "name": "python"
    }
  },
  "cells": [
    {
      "cell_type": "markdown",
      "metadata": {
        "id": "view-in-github",
        "colab_type": "text"
      },
      "source": [
        "<a href=\"https://colab.research.google.com/github/kasidhitdan/Basic-python/blob/main/Class.ipynb\" target=\"_parent\"><img src=\"https://colab.research.google.com/assets/colab-badge.svg\" alt=\"Open In Colab\"/></a>"
      ]
    },
    {
      "cell_type": "markdown",
      "source": [
        "# Class"
      ],
      "metadata": {
        "id": "99ajb2UKy0uo"
      }
    },
    {
      "cell_type": "code",
      "execution_count": 2,
      "metadata": {
        "id": "p9PuKnUregAU"
      },
      "outputs": [],
      "source": [
        "class Player:\n",
        "    def __init__(self):\n",
        "        self.fname =\"\"\n",
        "        self.lname = \"\"\n",
        "        self.position = \"\"\n",
        "        self.number = \"\""
      ]
    },
    {
      "cell_type": "code",
      "source": [
        "if __name__ == \"__main__\":\n",
        "    p1 = Player()\n",
        "    p1.fname = \"Alisson\"\n",
        "    p1.lname = \"Becker\"\n",
        "    p1.position = \"GOALKEEPER\"\n",
        "    p1.number = 1\n",
        "\n",
        "print(p1.fname)\n",
        "print(p1.lname)\n",
        "print(p1.position)\n",
        "print(p1.number)"
      ],
      "metadata": {
        "colab": {
          "base_uri": "https://localhost:8080/"
        },
        "id": "eEor7BAUjj31",
        "outputId": "5030c797-733a-499c-df48-6791859597b7"
      },
      "execution_count": 6,
      "outputs": [
        {
          "output_type": "stream",
          "name": "stdout",
          "text": [
            "Alisson\n",
            "Becker\n",
            "GOALKEEPER\n",
            "1\n"
          ]
        }
      ]
    },
    {
      "cell_type": "code",
      "source": [
        "class Player2:\n",
        "    def __init__(self):\n",
        "        print(\"Default construtor\")\n",
        "    def detail(self,fname,lname,position,number):\n",
        "        self.fname =fname\n",
        "        self.lname = lname\n",
        "        self.position = position\n",
        "        self.number = number\n",
        "    def showData(self):\n",
        "        print(\"name:\",self.fname)\n",
        "        print(\"lname:\",self.lname)\n",
        "        print(\"position:\",self.position)\n",
        "        print(\"number:\",self.number)\n",
        "    def __del__(self):\n",
        "        print(\"Call destructor\")\n",
        "\n",
        "# __init__: run command when call class\n",
        "# __del__: clear RAM when class is stopped"
      ],
      "metadata": {
        "id": "eQGzklmHkU0P"
      },
      "execution_count": 11,
      "outputs": []
    },
    {
      "cell_type": "code",
      "source": [
        "p1a=Player2()\n",
        "p1a.detail(\"Alisson\", \"Becker\", \"GOALKEEPER\",1)\n",
        "p1a.showData()"
      ],
      "metadata": {
        "colab": {
          "base_uri": "https://localhost:8080/"
        },
        "id": "mWEMclwUlwp_",
        "outputId": "3cf188ee-539a-4b93-c919-64e891b7a3af"
      },
      "execution_count": 12,
      "outputs": [
        {
          "output_type": "stream",
          "name": "stdout",
          "text": [
            "Default construtor\n",
            "name: Alisson\n",
            "lname: Becker\n",
            "position: GOALKEEPER\n",
            "number: 1\n"
          ]
        }
      ]
    },
    {
      "cell_type": "code",
      "source": [
        "p2a=Player2()\n",
        "p2a.detail(\"Joe\", \"Gomez\", \"DEFENDER\",2)\n",
        "p2a.showData()"
      ],
      "metadata": {
        "colab": {
          "base_uri": "https://localhost:8080/"
        },
        "id": "F8-YkFs-mDqD",
        "outputId": "244217f3-d52e-47eb-f4de-26bec4313384"
      },
      "execution_count": 13,
      "outputs": [
        {
          "output_type": "stream",
          "name": "stdout",
          "text": [
            "Call destructor\n",
            "Default construtor\n",
            "name: Joe\n",
            "lname: Gomez\n",
            "position: DEFENDER\n",
            "number: 2\n"
          ]
        }
      ]
    },
    {
      "cell_type": "markdown",
      "source": [
        "# Class Shot by Liverpool Player"
      ],
      "metadata": {
        "id": "aviaA5Cpq6Xi"
      }
    },
    {
      "cell_type": "code",
      "source": [
        "class liverpool:\n",
        "    def __init__(self,fname,lname,position,number):\n",
        "        self.fname =fname\n",
        "        self.lname = lname\n",
        "        self.position = position\n",
        "        self.number = number\n",
        "        self.shots = 0\n",
        "        self.goals = 0\n",
        "\n",
        "    def make_goal(self):\n",
        "        self.shots += 1\n",
        "        self.goals += 1\n",
        "        return f\"{self.fname} Goal!!!!!!!!! score shots {self.shots } : score Goals {self.goals}\"\n",
        "\n",
        "    def shoot_miss(self):\n",
        "        self.shots += 1\n",
        "        return f\"{self.fname} missed the goal. score shots {self.shots } : score Goals {self.goals}\"\n",
        "\n",
        "    def __str__(self):\n",
        "        return f\"name : {self.fname} surname : {self.lname} ({self.position}) - {self.number}\"\n",
        "\n",
        "# __str__: when call class return value type string (Normally, not return value)"
      ],
      "metadata": {
        "id": "PbsgISvPoDNA"
      },
      "execution_count": 23,
      "outputs": []
    },
    {
      "cell_type": "code",
      "source": [
        "player1 = liverpool(\"Alisson\", \"Becker\", \"GOALKEEPER\",1)\n",
        "player2 = liverpool(\"Joe\", \"Gomez\", \"DEFENDER\",2)"
      ],
      "metadata": {
        "id": "P6yZ37VJo20E"
      },
      "execution_count": 24,
      "outputs": []
    },
    {
      "cell_type": "code",
      "source": [
        "# Output information about the player\n",
        "print(\"Player 1:\", player1)\n",
        "print(\"player 2:\", player2)\n",
        "\n",
        "# Make the cats meow\n",
        "print(player1.make_goal())\n",
        "print(player2.make_goal())\n",
        "print(player1.shoot_miss())\n",
        "print(player2.shoot_miss())"
      ],
      "metadata": {
        "colab": {
          "base_uri": "https://localhost:8080/"
        },
        "id": "3xj8EkIApJbD",
        "outputId": "d13499a7-7247-4190-e903-bd225c6ea0ca"
      },
      "execution_count": 25,
      "outputs": [
        {
          "output_type": "stream",
          "name": "stdout",
          "text": [
            "Player 1: name : Alisson surname : Becker (GOALKEEPER) - 1\n",
            "player 2: name : Joe surname : Gomez (DEFENDER) - 2\n",
            "Alisson Goal!!!!!!!!! score shots 1 : score Goals 1\n",
            "Joe Goal!!!!!!!!! score shots 1 : score Goals 1\n",
            "Alisson missed the goal. score shots 2 : score Goals 1\n",
            "Joe missed the goal. score shots 2 : score Goals 1\n"
          ]
        }
      ]
    },
    {
      "cell_type": "markdown",
      "source": [
        "# Class Premier League"
      ],
      "metadata": {
        "id": "Dcq5M0vusZI_"
      }
    },
    {
      "cell_type": "code",
      "source": [
        "class premier_team:\n",
        "    def __init__(self,name,win,draw,lose,GF,GA):\n",
        "        self.name =name\n",
        "        self.win = win\n",
        "        self.draw = draw\n",
        "        self.lose = lose\n",
        "        self.GF = GF\n",
        "        self.GA = GA\n",
        "\n",
        "    def calculate_points(self):\n",
        "        return self.win * 3 + self.draw\n",
        "\n",
        "    def goal_difference(self):\n",
        "        return self.GF - self.GA\n",
        "\n",
        "    def is_promoted(self):\n",
        "        return True if self.position <= 1 else False\n",
        "\n",
        "    def __str__(self):\n",
        "        return f\"name team : {self.name} win : {self.win} draw : {self.draw} lose : {self.lose} ({self.GF}) - ({self.GA})\""
      ],
      "metadata": {
        "id": "VtjyRs7EsYv3"
      },
      "execution_count": 53,
      "outputs": []
    },
    {
      "cell_type": "code",
      "source": [
        "team1 = premier_team(\"Liverpool\", 20, 6, 4, 70, 20)\n",
        "team2 = premier_team(\"Manchester United\", 14, 10, 6, 45, 30)\n",
        "team3 = premier_team(\"Leicester City\", 16, 7, 7, 50, 40)\n",
        "team4 = premier_team(\"Chelsea\", 15, 9, 6, 55, 35)\n",
        "team5 = premier_team(\"Manchester City\", 20, 6, 4, 65, 25)\n",
        "\n",
        "\n",
        "    # Calculate points for each team\n",
        "teams = [team1, team2, team3, team4, team5]\n",
        "for team in teams:\n",
        "    team.points = team.calculate_points()\n",
        "\n",
        "# Sort teams by points and goal difference\n",
        "teams.sort(key=lambda x: (x.points, x.goal_difference()), reverse=True)\n",
        "\n",
        "# Assign positions to teams\n",
        "position = 1\n",
        "for i, team in enumerate(teams):\n",
        "    if i > 0 and team.points == teams[i-1].points and team.goal_difference() == teams[i-1].goal_difference():\n",
        "        team.position = teams[i-1].position\n",
        "    else:\n",
        "        team.position = position\n",
        "    print(f\"{team}, point : {team.points}, position : {position}\")\n",
        "    position += 1\n",
        "\n",
        "# Check promotion eligibility\n",
        "for team in teams:\n",
        "    if team.is_promoted():\n",
        "        print(f\"{team.name} is promoted to the Championship!\")"
      ],
      "metadata": {
        "colab": {
          "base_uri": "https://localhost:8080/"
        },
        "id": "xJDSengiufrZ",
        "outputId": "851c2327-ddb5-4449-cee9-a7f53adb2353"
      },
      "execution_count": 62,
      "outputs": [
        {
          "output_type": "stream",
          "name": "stdout",
          "text": [
            "name team : Liverpool win : 20 draw : 6 lose : 4 (70) - (20), point : 66, position : 1\n",
            "name team : Manchester City win : 20 draw : 6 lose : 4 (65) - (25), point : 66, position : 2\n",
            "name team : Leicester City win : 16 draw : 7 lose : 7 (50) - (40), point : 55, position : 3\n",
            "name team : Chelsea win : 15 draw : 9 lose : 6 (55) - (35), point : 54, position : 4\n",
            "name team : Manchester United win : 14 draw : 10 lose : 6 (45) - (30), point : 52, position : 5\n",
            "Liverpool is promoted to the Championship!\n"
          ]
        }
      ]
    }
  ]
}