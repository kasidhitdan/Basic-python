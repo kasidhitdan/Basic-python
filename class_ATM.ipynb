{
  "nbformat": 4,
  "nbformat_minor": 0,
  "metadata": {
    "colab": {
      "provenance": [],
      "include_colab_link": true
    },
    "kernelspec": {
      "name": "python3",
      "display_name": "Python 3"
    },
    "language_info": {
      "name": "python"
    }
  },
  "cells": [
    {
      "cell_type": "markdown",
      "metadata": {
        "id": "view-in-github",
        "colab_type": "text"
      },
      "source": [
        "<a href=\"https://colab.research.google.com/github/kasidhitdan/Basic-python/blob/main/class_ATM.ipynb\" target=\"_parent\"><img src=\"https://colab.research.google.com/assets/colab-badge.svg\" alt=\"Open In Colab\"/></a>"
      ]
    },
    {
      "cell_type": "code",
      "execution_count": null,
      "metadata": {
        "id": "byPaDLvaj_ut"
      },
      "outputs": [],
      "source": [
        "class ATM:\n",
        "    def __init__(self,name,bank,money):\n",
        "        self.name = name\n",
        "        self.bank = bank\n",
        "        self.money = money\n",
        "\n",
        "    def __str__(self):\n",
        "        return f\"บัญชีของ {self.name} ที่ธนาคาร {self.bank} \"\n",
        "\n",
        "    def deposit(self,deposit_money):\n",
        "        self.money +=deposit_money\n",
        "        print(f\"ได้รับการฝากเงินจำนวน {deposit_money} เงินในบัญชีของคุณมีมูลค่า {self.money} บาท\")\n",
        "\n",
        "    def withdraw(self,withdraw_money):\n",
        "        self.money -=withdraw_money\n",
        "        print(f\"ถอนเงินจำนวน {withdraw_money} เงินในบัญชีของคุณมีมูลค่า {self.money} บาท\")\n",
        "\n",
        "    def allmoney(self):\n",
        "        print(f\"บัญชีของ {self.name} ที่ธนาคาร {self.bank} ยอดเงิน {self.money}\")\n"
      ]
    },
    {
      "cell_type": "code",
      "source": [
        "atm1 = ATM(\"Kasidhit\",\"Kbank\",50000)\n",
        "atm1.allmoney()\n",
        "atm1.deposit(2000)\n",
        "atm1.withdraw(500)\n",
        "print(atm1)"
      ],
      "metadata": {
        "colab": {
          "base_uri": "https://localhost:8080/"
        },
        "id": "84AqCAqXp2im",
        "outputId": "2474aece-1ec5-4096-e690-585509ee4a54"
      },
      "execution_count": null,
      "outputs": [
        {
          "output_type": "stream",
          "name": "stdout",
          "text": [
            "บัญชีของ Kasidhit ที่ธนาคาร Kbank ยอดเงิน 50000\n",
            "ได้รับการฝากเงินจำนวน 2000 เงินในบัญชีของคุณมีมูลค่า 52000 บาท\n",
            "ถอนเงินจำนวน 500 เงินในบัญชีของคุณมีมูลค่า 51500 บาท\n",
            "บัญชีของ Kasidhit ที่ธนาคาร Kbank \n"
          ]
        }
      ]
    }
  ]
}